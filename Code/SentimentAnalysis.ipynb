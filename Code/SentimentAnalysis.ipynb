{
 "cells": [
  {
   "cell_type": "code",
   "execution_count": 4,
   "id": "16bbd60c",
   "metadata": {},
   "outputs": [],
   "source": [
    "import pandas as pd\n",
    "import numpy as np\n",
    "import matplotlib.pyplot as plt\n",
    "import seaborn as sns\n",
    "import nltk\n",
    "warnings.filterwarnings(\"ignore\")\n",
    "from nltk.sentiment.vader import SentimentIntensityAnalyzer\n",
    "from string import punctuation\n",
    "from nltk.corpus import stopwords\n",
    "from nltk.stem import WordNetLemmatizer\n",
    "from nltk import ngrams\n",
    "from itertools import chain\n",
    "from nltk import FreqDist"
   ]
  },
  {
   "cell_type": "code",
   "execution_count": 6,
   "id": "7d5f0738",
   "metadata": {},
   "outputs": [
    {
     "data": {
      "text/html": [
       "<div>\n",
       "<style scoped>\n",
       "    .dataframe tbody tr th:only-of-type {\n",
       "        vertical-align: middle;\n",
       "    }\n",
       "\n",
       "    .dataframe tbody tr th {\n",
       "        vertical-align: top;\n",
       "    }\n",
       "\n",
       "    .dataframe thead th {\n",
       "        text-align: right;\n",
       "    }\n",
       "</style>\n",
       "<table border=\"1\" class=\"dataframe\">\n",
       "  <thead>\n",
       "    <tr style=\"text-align: right;\">\n",
       "      <th></th>\n",
       "      <th>review_id</th>\n",
       "      <th>user_id</th>\n",
       "      <th>business_id</th>\n",
       "      <th>stars</th>\n",
       "      <th>useful</th>\n",
       "      <th>funny</th>\n",
       "      <th>cool</th>\n",
       "      <th>text</th>\n",
       "      <th>date</th>\n",
       "    </tr>\n",
       "    <tr>\n",
       "      <th>Unnamed: 0</th>\n",
       "      <th></th>\n",
       "      <th></th>\n",
       "      <th></th>\n",
       "      <th></th>\n",
       "      <th></th>\n",
       "      <th></th>\n",
       "      <th></th>\n",
       "      <th></th>\n",
       "      <th></th>\n",
       "    </tr>\n",
       "  </thead>\n",
       "  <tbody>\n",
       "    <tr>\n",
       "      <th>1</th>\n",
       "      <td>L0E_Ld__jIATsQ1vA7ZGZw</td>\n",
       "      <td>Cvi8nZTwDVaQkqmmgQwQMw</td>\n",
       "      <td>D4DZztR7vkbiED6txGUYFg</td>\n",
       "      <td>4</td>\n",
       "      <td>0</td>\n",
       "      <td>0</td>\n",
       "      <td>1</td>\n",
       "      <td>Looks like there is a second Red Kings restaur...</td>\n",
       "      <td>2013-06-24 13:15:21</td>\n",
       "    </tr>\n",
       "    <tr>\n",
       "      <th>2</th>\n",
       "      <td>Vou3XAgjYJBuCO_-h1OQaA</td>\n",
       "      <td>M-00xuAOYLeaGEhPmmKjfg</td>\n",
       "      <td>eaDZlSuVS0EY67Ke6pRP6Q</td>\n",
       "      <td>5</td>\n",
       "      <td>0</td>\n",
       "      <td>0</td>\n",
       "      <td>0</td>\n",
       "      <td>Absolutely wonderful food &amp; service! Go there ...</td>\n",
       "      <td>2011-04-23 00:52:05</td>\n",
       "    </tr>\n",
       "    <tr>\n",
       "      <th>3</th>\n",
       "      <td>hozoa1DsTCjpz4UC8YGsNw</td>\n",
       "      <td>ndgHYecgAWEqtjnjE7LtfA</td>\n",
       "      <td>MMRRS6YhVRx_iN5-JhMRYg</td>\n",
       "      <td>4</td>\n",
       "      <td>0</td>\n",
       "      <td>0</td>\n",
       "      <td>0</td>\n",
       "      <td>The new Han Dynasty took over the spot where t...</td>\n",
       "      <td>2012-10-08 15:29:44</td>\n",
       "    </tr>\n",
       "    <tr>\n",
       "      <th>4</th>\n",
       "      <td>tfucaiy6lG5UbvbmTD4STg</td>\n",
       "      <td>wABHp4fGUC-0acRKhmQO2A</td>\n",
       "      <td>MMRRS6YhVRx_iN5-JhMRYg</td>\n",
       "      <td>5</td>\n",
       "      <td>0</td>\n",
       "      <td>0</td>\n",
       "      <td>0</td>\n",
       "      <td>Awesome food, great place to split a bunch of ...</td>\n",
       "      <td>2016-03-07 00:22:02</td>\n",
       "    </tr>\n",
       "    <tr>\n",
       "      <th>5</th>\n",
       "      <td>bu0BUkenT8c8nnyKUaF0-A</td>\n",
       "      <td>qmpRRF4HAKuGJEujoK-IdQ</td>\n",
       "      <td>eaDZlSuVS0EY67Ke6pRP6Q</td>\n",
       "      <td>5</td>\n",
       "      <td>0</td>\n",
       "      <td>0</td>\n",
       "      <td>0</td>\n",
       "      <td>I've been coming to this place for years now, ...</td>\n",
       "      <td>2016-02-24 14:34:27</td>\n",
       "    </tr>\n",
       "    <tr>\n",
       "      <th>...</th>\n",
       "      <td>...</td>\n",
       "      <td>...</td>\n",
       "      <td>...</td>\n",
       "      <td>...</td>\n",
       "      <td>...</td>\n",
       "      <td>...</td>\n",
       "      <td>...</td>\n",
       "      <td>...</td>\n",
       "      <td>...</td>\n",
       "    </tr>\n",
       "    <tr>\n",
       "      <th>56943</th>\n",
       "      <td>fb_xKUoJb-A2wWTSmFndfg</td>\n",
       "      <td>pGmbV55YLG54t8r1W4F3xg</td>\n",
       "      <td>-1B9pP_CrRBJYPICE5WbRA</td>\n",
       "      <td>5</td>\n",
       "      <td>1</td>\n",
       "      <td>0</td>\n",
       "      <td>1</td>\n",
       "      <td>Spice 28 is a great happy hour option in the h...</td>\n",
       "      <td>2021-11-08 15:15:45</td>\n",
       "    </tr>\n",
       "    <tr>\n",
       "      <th>56944</th>\n",
       "      <td>4yFZtkdc7SPueWozB6zmwQ</td>\n",
       "      <td>ttg9bK1FuUDZQNIleuR-KQ</td>\n",
       "      <td>ytynqOUb3hjKeJfRj5Tshw</td>\n",
       "      <td>5</td>\n",
       "      <td>0</td>\n",
       "      <td>1</td>\n",
       "      <td>0</td>\n",
       "      <td>If it wasn't for my friend dragging me out, I ...</td>\n",
       "      <td>2019-12-21 18:46:06</td>\n",
       "    </tr>\n",
       "    <tr>\n",
       "      <th>56945</th>\n",
       "      <td>d_POWSXOV2S7QSO6SOfCNg</td>\n",
       "      <td>I2owOyPHlcXYfhXr8hvodw</td>\n",
       "      <td>-1B9pP_CrRBJYPICE5WbRA</td>\n",
       "      <td>3</td>\n",
       "      <td>0</td>\n",
       "      <td>0</td>\n",
       "      <td>1</td>\n",
       "      <td>So, myself and my person decided to try someth...</td>\n",
       "      <td>2015-10-29 00:58:39</td>\n",
       "    </tr>\n",
       "    <tr>\n",
       "      <th>56946</th>\n",
       "      <td>UKSW7aMzc32KQC_eNwRazg</td>\n",
       "      <td>iTA7VqmHkEX3sUtJLpxHdw</td>\n",
       "      <td>qDEcJ48kXdWxQGZefgG94w</td>\n",
       "      <td>5</td>\n",
       "      <td>2</td>\n",
       "      <td>0</td>\n",
       "      <td>0</td>\n",
       "      <td>Incredible and amazing. We always come here wh...</td>\n",
       "      <td>2019-07-01 06:38:29</td>\n",
       "    </tr>\n",
       "    <tr>\n",
       "      <th>56947</th>\n",
       "      <td>MVg4YUQeEhCA7Z7RsBJSVg</td>\n",
       "      <td>7-7A0Avj47slLGV7yBFc8w</td>\n",
       "      <td>ytynqOUb3hjKeJfRj5Tshw</td>\n",
       "      <td>3</td>\n",
       "      <td>1</td>\n",
       "      <td>0</td>\n",
       "      <td>0</td>\n",
       "      <td>I was so excited about all the food I saw, but...</td>\n",
       "      <td>2013-07-25 21:00:15</td>\n",
       "    </tr>\n",
       "  </tbody>\n",
       "</table>\n",
       "<p>56947 rows × 9 columns</p>\n",
       "</div>"
      ],
      "text/plain": [
       "                         review_id                 user_id  \\\n",
       "Unnamed: 0                                                   \n",
       "1           L0E_Ld__jIATsQ1vA7ZGZw  Cvi8nZTwDVaQkqmmgQwQMw   \n",
       "2           Vou3XAgjYJBuCO_-h1OQaA  M-00xuAOYLeaGEhPmmKjfg   \n",
       "3           hozoa1DsTCjpz4UC8YGsNw  ndgHYecgAWEqtjnjE7LtfA   \n",
       "4           tfucaiy6lG5UbvbmTD4STg  wABHp4fGUC-0acRKhmQO2A   \n",
       "5           bu0BUkenT8c8nnyKUaF0-A  qmpRRF4HAKuGJEujoK-IdQ   \n",
       "...                            ...                     ...   \n",
       "56943       fb_xKUoJb-A2wWTSmFndfg  pGmbV55YLG54t8r1W4F3xg   \n",
       "56944       4yFZtkdc7SPueWozB6zmwQ  ttg9bK1FuUDZQNIleuR-KQ   \n",
       "56945       d_POWSXOV2S7QSO6SOfCNg  I2owOyPHlcXYfhXr8hvodw   \n",
       "56946       UKSW7aMzc32KQC_eNwRazg  iTA7VqmHkEX3sUtJLpxHdw   \n",
       "56947       MVg4YUQeEhCA7Z7RsBJSVg  7-7A0Avj47slLGV7yBFc8w   \n",
       "\n",
       "                       business_id  stars  useful  funny  cool  \\\n",
       "Unnamed: 0                                                       \n",
       "1           D4DZztR7vkbiED6txGUYFg      4       0      0     1   \n",
       "2           eaDZlSuVS0EY67Ke6pRP6Q      5       0      0     0   \n",
       "3           MMRRS6YhVRx_iN5-JhMRYg      4       0      0     0   \n",
       "4           MMRRS6YhVRx_iN5-JhMRYg      5       0      0     0   \n",
       "5           eaDZlSuVS0EY67Ke6pRP6Q      5       0      0     0   \n",
       "...                            ...    ...     ...    ...   ...   \n",
       "56943       -1B9pP_CrRBJYPICE5WbRA      5       1      0     1   \n",
       "56944       ytynqOUb3hjKeJfRj5Tshw      5       0      1     0   \n",
       "56945       -1B9pP_CrRBJYPICE5WbRA      3       0      0     1   \n",
       "56946       qDEcJ48kXdWxQGZefgG94w      5       2      0     0   \n",
       "56947       ytynqOUb3hjKeJfRj5Tshw      3       1      0     0   \n",
       "\n",
       "                                                         text  \\\n",
       "Unnamed: 0                                                      \n",
       "1           Looks like there is a second Red Kings restaur...   \n",
       "2           Absolutely wonderful food & service! Go there ...   \n",
       "3           The new Han Dynasty took over the spot where t...   \n",
       "4           Awesome food, great place to split a bunch of ...   \n",
       "5           I've been coming to this place for years now, ...   \n",
       "...                                                       ...   \n",
       "56943       Spice 28 is a great happy hour option in the h...   \n",
       "56944       If it wasn't for my friend dragging me out, I ...   \n",
       "56945       So, myself and my person decided to try someth...   \n",
       "56946       Incredible and amazing. We always come here wh...   \n",
       "56947       I was so excited about all the food I saw, but...   \n",
       "\n",
       "                           date  \n",
       "Unnamed: 0                       \n",
       "1           2013-06-24 13:15:21  \n",
       "2           2011-04-23 00:52:05  \n",
       "3           2012-10-08 15:29:44  \n",
       "4           2016-03-07 00:22:02  \n",
       "5           2016-02-24 14:34:27  \n",
       "...                         ...  \n",
       "56943       2021-11-08 15:15:45  \n",
       "56944       2019-12-21 18:46:06  \n",
       "56945       2015-10-29 00:58:39  \n",
       "56946       2019-07-01 06:38:29  \n",
       "56947       2013-07-25 21:00:15  \n",
       "\n",
       "[56947 rows x 9 columns]"
      ]
     },
     "execution_count": 6,
     "metadata": {},
     "output_type": "execute_result"
    }
   ],
   "source": [
    "review_data = pd.read_csv(\"review_chinsese_philadelphia.csv\")\n",
    "\n",
    "# removing the duplicates\n",
    "review_data.drop_duplicates(subset=['review_id','date','user_id'],inplace=True) \n",
    "review_data.set_index('Unnamed: 0')"
   ]
  },
  {
   "cell_type": "markdown",
   "id": "52f55026",
   "metadata": {},
   "source": [
    "### Sentiment Score"
   ]
  },
  {
   "cell_type": "code",
   "execution_count": 17,
   "id": "227d8d81",
   "metadata": {},
   "outputs": [],
   "source": [
    "# quantify the review column to sentiment value\n",
    "sid = SentimentIntensityAnalyzer()\n",
    "def sentiquantify(sen):\n",
    "    score = sid.polarity_scores(sen)\n",
    "    score = score['compound']\n",
    "    return score\n"
   ]
  },
  {
   "cell_type": "code",
   "execution_count": 18,
   "id": "e52a89da",
   "metadata": {},
   "outputs": [],
   "source": [
    "review_data['sentiment_score'] = review_data['text'].apply(sentiquantify)"
   ]
  },
  {
   "cell_type": "code",
   "execution_count": 19,
   "id": "2ce5c0b9",
   "metadata": {},
   "outputs": [],
   "source": [
    "review_data['sentiment'] = review_data['sentiment_score'].apply(lambda x: 'positive' if x>0 else 'negative')"
   ]
  },
  {
   "cell_type": "code",
   "execution_count": 21,
   "id": "be64de21",
   "metadata": {},
   "outputs": [
    {
     "data": {
      "text/plain": [
       "<seaborn.axisgrid.FacetGrid at 0x7fa9269356a0>"
      ]
     },
     "execution_count": 21,
     "metadata": {},
     "output_type": "execute_result"
    },
    {
     "data": {
      "image/png": "[encoded data removed]",
      "text/plain": [
       "<Figure size 712.625x600 with 1 Axes>"
      ]
     },
     "metadata": {},
     "output_type": "display_data"
    }
   ],
   "source": [
    "star_senti_plot = sns.catplot(x=\"stars\", hue=\"sentiment\", data=review_data,\n",
    "                height=6, kind=\"count\", palette=\"muted\")\n",
    "star_senti_plot.set_xlabels('rating count')"
   ]
  },
  {
   "cell_type": "markdown",
   "id": "bbc8ff3a",
   "metadata": {},
   "source": [
    "### Word count Statistics"
   ]
  },
  {
   "cell_type": "code",
   "execution_count": 7,
   "id": "b3af9cbf",
   "metadata": {},
   "outputs": [],
   "source": [
    "# preprocessing text data\n",
    "def dataprocess(df):\n",
    "    df['text'] = df['text'].apply(str)\n"
   ]
  },
  {
   "cell_type": "code",
   "execution_count": 8,
   "id": "a6fb9a5f",
   "metadata": {},
   "outputs": [],
   "source": [
    "def freq_word(x, terms):\n",
    "    words = ' '.join([text for text in x])\n",
    "    words = words.split()\n",
    "    \n",
    "    freq_dist = FreqDist(words)\n",
    "    words_df = pd.DataFrame({'words':list(freq_dist.keys()), 'counts':list(freq_dist.values())})\n",
    "    \n",
    "    d = words_df.nlargest(columns = \"counts\", n = terms)\n",
    "    plt.figure()\n",
    "    ax = sns.barplot(data = d, x = \"counts\", y = \"words\")\n",
    "    ax.set(ylabel = \"word\")\n",
    "    "
   ]
  },
  {
   "cell_type": "code",
   "execution_count": 9,
   "id": "c9a37253",
   "metadata": {},
   "outputs": [],
   "source": [
    "\n",
    "from nltk.corpus import stopwords\n",
    "stop_words = stopwords.words('english')\n",
    "\n",
    "# remove stopwords\n",
    "def remove_stopwords(data):\n",
    "    review = data.apply(lambda x: ' '.join([y for y in x.split() if len(y)>2]))\n",
    "    review_new = review.apply(lambda x: ' '.join([y for y in x.split() if y not in stop_words]))\n",
    "    review_new = review_new.apply(str.lower)\n",
    "    return review_new\n",
    "                              "
   ]
  },
  {
   "cell_type": "code",
   "execution_count": 10,
   "id": "ccd3a323",
   "metadata": {},
   "outputs": [],
   "source": [
    "text_rvstop = remove_stopwords(review_data['text'])"
   ]
  },
  {
   "cell_type": "code",
   "execution_count": 1,
   "id": "f7455004",
   "metadata": {},
   "outputs": [],
   "source": [
    "import spacy"
   ]
  },
  {
   "cell_type": "code",
   "execution_count": 2,
   "id": "6821671f",
   "metadata": {},
   "outputs": [],
   "source": [
    "nlp = spacy.load('en_core_web_sm')\n",
    "\n",
    "def lemmatization(text, pos):\n",
    "    output = []\n",
    "    for word in text:\n",
    "        doc = nlp(\" \".join(word))\n",
    "        output.append([token.lemma_ for token in doc if token.pos_ in pos])\n",
    "    return output"
   ]
  },
  {
   "cell_type": "code",
   "execution_count": 22,
   "id": "3bd812d3",
   "metadata": {},
   "outputs": [],
   "source": [
    "def out(data,pos):\n",
    "    review = remove_stopwords(data)\n",
    "    tokenized_review = pd.Series(data).apply(lambda x : x.split())\n",
    "    data = lemmatization(tokenized_review,pos)\n",
    "    for i in range(len(data)):\n",
    "        data[i] = ' '.join(data[i])\n",
    "    freq_word(data,20)\n",
    "    return review"
   ]
  },
  {
   "cell_type": "code",
   "execution_count": 23,
   "id": "39b4e31e",
   "metadata": {},
   "outputs": [
    {
     "data": {
      "text/plain": [
       "0        looks like second red kings restaurant chinato...\n",
       "1        absolutely wonderful food service! lunch/dinne...\n",
       "2        the new han dynasty took spot old mid-atlantic...\n",
       "3        awesome food, great place split bunch deliciou...\n",
       "4        i've coming place years now, even though live ...\n",
       "                               ...                        \n",
       "56942    spice great happy hour option heart center cit...\n",
       "56943    friend dragging out, think would spent whole t...\n",
       "56944    so, person decided try something new center ci...\n",
       "56945    incredible amazing. always come philly. get fi...\n",
       "56946    excited food saw, unfortunately place closes e...\n",
       "Name: text, Length: 56947, dtype: object"
      ]
     },
     "execution_count": 23,
     "metadata": {},
     "output_type": "execute_result"
    },
    {
     "data": {
      "image/png": "[encoded data removed]",
      "text/plain": [
       "<Figure size 640x480 with 1 Axes>"
      ]
     },
     "metadata": {},
     "output_type": "display_data"
    }
   ],
   "source": [
    "out(review_data['text'],[\"NOUN\"])"
   ]
  },
  {
   "cell_type": "code",
   "execution_count": 24,
   "id": "289e60b4",
   "metadata": {},
   "outputs": [
    {
     "data": {
      "text/plain": [
       "0        looks like second red kings restaurant chinato...\n",
       "1        absolutely wonderful food service! lunch/dinne...\n",
       "2        the new han dynasty took spot old mid-atlantic...\n",
       "3        awesome food, great place split bunch deliciou...\n",
       "4        i've coming place years now, even though live ...\n",
       "                               ...                        \n",
       "56942    spice great happy hour option heart center cit...\n",
       "56943    friend dragging out, think would spent whole t...\n",
       "56944    so, person decided try something new center ci...\n",
       "56945    incredible amazing. always come philly. get fi...\n",
       "56946    excited food saw, unfortunately place closes e...\n",
       "Name: text, Length: 56947, dtype: object"
      ]
     },
     "execution_count": 24,
     "metadata": {},
     "output_type": "execute_result"
    },
    {
     "data": {
      "image/png": "[encoded data removed]",
      "text/plain": [
       "<Figure size 640x480 with 1 Axes>"
      ]
     },
     "metadata": {},
     "output_type": "display_data"
    }
   ],
   "source": [
    "out(review_data['text'],['ADJ'])"
   ]
  },
  {
   "cell_type": "code",
   "execution_count": null,
   "id": "37ece6e2",
   "metadata": {},
   "outputs": [],
   "source": [
    "out(review_data['text'][review_data['sentiment']=='positive'],[\"NOUN\"])"
   ]
  },
  {
   "cell_type": "code",
   "execution_count": null,
   "id": "88fd0657",
   "metadata": {},
   "outputs": [],
   "source": [
    "out(review_data['text'][review_data['sentiment']=='positive'],['ADJ'])"
   ]
  },
  {
   "cell_type": "code",
   "execution_count": null,
   "id": "16ba4b68",
   "metadata": {},
   "outputs": [],
   "source": []
  },
  {
   "cell_type": "code",
   "execution_count": null,
   "id": "cdf8da65",
   "metadata": {},
   "outputs": [],
   "source": []
  },
  {
   "cell_type": "code",
   "execution_count": null,
   "id": "c7d73f44",
   "metadata": {},
   "outputs": [],
   "source": []
  },
  {
   "cell_type": "code",
   "execution_count": null,
   "id": "2fff2b9d",
   "metadata": {},
   "outputs": [],
   "source": []
  },
  {
   "cell_type": "code",
   "execution_count": null,
   "id": "f1126fe3",
   "metadata": {},
   "outputs": [],
   "source": [
    "\n"
   ]
  }
 ],
 "metadata": {
  "kernelspec": {
   "display_name": "Python 3 (ipykernel)",
   "language": "python",
   "name": "python3"
  },
  "language_info": {
   "codemirror_mode": {
    "name": "ipython",
    "version": 3
   },
   "file_extension": ".py",
   "mimetype": "text/x-python",
   "name": "python",
   "nbconvert_exporter": "python",
   "pygments_lexer": "ipython3",
   "version": "3.8.13"
  }
 },
 "nbformat": 4,
 "nbformat_minor": 5
}
