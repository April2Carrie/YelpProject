{
 "cells": [
  {
   "cell_type": "markdown",
   "metadata": {
    "collapsed": true,
    "pycharm": {
     "name": "#%% md\n"
    }
   },
   "source": [
    "## Bi-grams"
   ]
  },
  {
   "cell_type": "markdown",
   "metadata": {
    "pycharm": {
     "name": "#%% md\n"
    }
   },
   "source": [
    "### Set Up"
   ]
  },
  {
   "cell_type": "code",
   "execution_count": 75,
   "metadata": {
    "pycharm": {
     "name": "#%%\n"
    }
   },
   "outputs": [],
   "source": [
    "import pandas as pd\n",
    "import numpy as np\n",
    "import matplotlib.pyplot as plt\n",
    "import seaborn as sns\n",
    "import nltk\n",
    "# nltk.download('stopwords')\n",
    "# nltk.download('punkt')\n",
    "# nltk.download('wordnet')\n",
    "# nltk.download('omw-1.4')\n",
    "import string\n",
    "import re\n",
    "import unicodedata\n",
    "import warnings\n",
    "warnings.filterwarnings(\"ignore\")\n",
    "from nltk.sentiment.vader import SentimentIntensityAnalyzer\n",
    "from string import punctuation\n",
    "from nltk.corpus import stopwords\n",
    "from nltk.stem import WordNetLemmatizer\n",
    "from nltk import ngrams\n",
    "from nltk import FreqDist\n",
    "from nltk.tokenize import word_tokenize"
   ]
  },
  {
   "cell_type": "markdown",
   "metadata": {},
   "source": [
    "### Load Data"
   ]
  },
  {
   "cell_type": "code",
   "execution_count": 13,
   "metadata": {
    "pycharm": {
     "name": "#%%\n"
    }
   },
   "outputs": [
    {
     "data": {
      "text/html": [
       "<div>\n",
       "<style scoped>\n",
       "    .dataframe tbody tr th:only-of-type {\n",
       "        vertical-align: middle;\n",
       "    }\n",
       "\n",
       "    .dataframe tbody tr th {\n",
       "        vertical-align: top;\n",
       "    }\n",
       "\n",
       "    .dataframe thead th {\n",
       "        text-align: right;\n",
       "    }\n",
       "</style>\n",
       "<table border=\"1\" class=\"dataframe\">\n",
       "  <thead>\n",
       "    <tr style=\"text-align: right;\">\n",
       "      <th></th>\n",
       "      <th>Unnamed: 0</th>\n",
       "      <th>review_id</th>\n",
       "      <th>user_id</th>\n",
       "      <th>business_id</th>\n",
       "      <th>stars</th>\n",
       "      <th>useful</th>\n",
       "      <th>funny</th>\n",
       "      <th>cool</th>\n",
       "      <th>text</th>\n",
       "      <th>date</th>\n",
       "    </tr>\n",
       "  </thead>\n",
       "  <tbody>\n",
       "    <tr>\n",
       "      <th>0</th>\n",
       "      <td>1</td>\n",
       "      <td>L0E_Ld__jIATsQ1vA7ZGZw</td>\n",
       "      <td>Cvi8nZTwDVaQkqmmgQwQMw</td>\n",
       "      <td>D4DZztR7vkbiED6txGUYFg</td>\n",
       "      <td>4</td>\n",
       "      <td>0</td>\n",
       "      <td>0</td>\n",
       "      <td>1</td>\n",
       "      <td>Looks like there is a second Red Kings restaur...</td>\n",
       "      <td>2013-06-24 13:15:21</td>\n",
       "    </tr>\n",
       "    <tr>\n",
       "      <th>1</th>\n",
       "      <td>2</td>\n",
       "      <td>Vou3XAgjYJBuCO_-h1OQaA</td>\n",
       "      <td>M-00xuAOYLeaGEhPmmKjfg</td>\n",
       "      <td>eaDZlSuVS0EY67Ke6pRP6Q</td>\n",
       "      <td>5</td>\n",
       "      <td>0</td>\n",
       "      <td>0</td>\n",
       "      <td>0</td>\n",
       "      <td>Absolutely wonderful food &amp; service! Go there ...</td>\n",
       "      <td>2011-04-23 00:52:05</td>\n",
       "    </tr>\n",
       "    <tr>\n",
       "      <th>2</th>\n",
       "      <td>3</td>\n",
       "      <td>hozoa1DsTCjpz4UC8YGsNw</td>\n",
       "      <td>ndgHYecgAWEqtjnjE7LtfA</td>\n",
       "      <td>MMRRS6YhVRx_iN5-JhMRYg</td>\n",
       "      <td>4</td>\n",
       "      <td>0</td>\n",
       "      <td>0</td>\n",
       "      <td>0</td>\n",
       "      <td>The new Han Dynasty took over the spot where t...</td>\n",
       "      <td>2012-10-08 15:29:44</td>\n",
       "    </tr>\n",
       "    <tr>\n",
       "      <th>3</th>\n",
       "      <td>4</td>\n",
       "      <td>tfucaiy6lG5UbvbmTD4STg</td>\n",
       "      <td>wABHp4fGUC-0acRKhmQO2A</td>\n",
       "      <td>MMRRS6YhVRx_iN5-JhMRYg</td>\n",
       "      <td>5</td>\n",
       "      <td>0</td>\n",
       "      <td>0</td>\n",
       "      <td>0</td>\n",
       "      <td>Awesome food, great place to split a bunch of ...</td>\n",
       "      <td>2016-03-07 00:22:02</td>\n",
       "    </tr>\n",
       "    <tr>\n",
       "      <th>4</th>\n",
       "      <td>5</td>\n",
       "      <td>bu0BUkenT8c8nnyKUaF0-A</td>\n",
       "      <td>qmpRRF4HAKuGJEujoK-IdQ</td>\n",
       "      <td>eaDZlSuVS0EY67Ke6pRP6Q</td>\n",
       "      <td>5</td>\n",
       "      <td>0</td>\n",
       "      <td>0</td>\n",
       "      <td>0</td>\n",
       "      <td>I've been coming to this place for years now, ...</td>\n",
       "      <td>2016-02-24 14:34:27</td>\n",
       "    </tr>\n",
       "  </tbody>\n",
       "</table>\n",
       "</div>"
      ],
      "text/plain": [
       "   Unnamed: 0               review_id                 user_id  \\\n",
       "0           1  L0E_Ld__jIATsQ1vA7ZGZw  Cvi8nZTwDVaQkqmmgQwQMw   \n",
       "1           2  Vou3XAgjYJBuCO_-h1OQaA  M-00xuAOYLeaGEhPmmKjfg   \n",
       "2           3  hozoa1DsTCjpz4UC8YGsNw  ndgHYecgAWEqtjnjE7LtfA   \n",
       "3           4  tfucaiy6lG5UbvbmTD4STg  wABHp4fGUC-0acRKhmQO2A   \n",
       "4           5  bu0BUkenT8c8nnyKUaF0-A  qmpRRF4HAKuGJEujoK-IdQ   \n",
       "\n",
       "              business_id  stars  useful  funny  cool  \\\n",
       "0  D4DZztR7vkbiED6txGUYFg      4       0      0     1   \n",
       "1  eaDZlSuVS0EY67Ke6pRP6Q      5       0      0     0   \n",
       "2  MMRRS6YhVRx_iN5-JhMRYg      4       0      0     0   \n",
       "3  MMRRS6YhVRx_iN5-JhMRYg      5       0      0     0   \n",
       "4  eaDZlSuVS0EY67Ke6pRP6Q      5       0      0     0   \n",
       "\n",
       "                                                text                 date  \n",
       "0  Looks like there is a second Red Kings restaur...  2013-06-24 13:15:21  \n",
       "1  Absolutely wonderful food & service! Go there ...  2011-04-23 00:52:05  \n",
       "2  The new Han Dynasty took over the spot where t...  2012-10-08 15:29:44  \n",
       "3  Awesome food, great place to split a bunch of ...  2016-03-07 00:22:02  \n",
       "4  I've been coming to this place for years now, ...  2016-02-24 14:34:27  "
      ]
     },
     "execution_count": 13,
     "metadata": {},
     "output_type": "execute_result"
    }
   ],
   "source": [
    "review_data = pd.read_csv(\"./Data/review_chinsese_philadelphia.csv\")\n",
    "\n",
    "# removing the duplicates\n",
    "review_data.drop_duplicates(subset=['review_id','date','user_id'],inplace=True)\n",
    "review_data.set_index('Unnamed: 0')\n",
    "review_data.head()"
   ]
  },
  {
   "cell_type": "markdown",
   "metadata": {
    "pycharm": {
     "name": "#%% md\n"
    }
   },
   "source": [
    "### Clean Data"
   ]
  },
  {
   "cell_type": "code",
   "execution_count": 73,
   "metadata": {
    "pycharm": {
     "name": "#%%\n"
    }
   },
   "outputs": [],
   "source": [
    "stopwords = nltk.corpus.stopwords.words('english')\n",
    "lemmatizer = WordNetLemmatizer()\n",
    "token=[]\n",
    "bigrm=[]\n",
    "for comment in review_data.text:\n",
    "    text=comment.lower()\n",
    "    text=unicodedata.normalize('NFKD', text).encode('ascii', 'ignore').decode('utf-8', 'ignore')\n",
    "    text=re.sub(r'[^a-zA-Z0-9]', ' ', text)\n",
    "    text=re.sub(r'https?://\\S+|www\\.\\S+', '', text)\n",
    "    text=re.sub(r'[^a-zA-Z]', ' ', text)\n",
    "    text=re.sub(r'^\\s*|\\s\\s*', ' ', text).strip()\n",
    "    text=text.split()\n",
    "    tokens=[lemmatizer.lemmatize(i) for i in text if (i not in string.punctuation)&(i not in stopwords)]\n",
    "    token.append(tokens)\n",
    "    tokens=list(nltk.bigrams(tokens))\n",
    "    tokens=[i[0]+\"_\"+i[1] for i in tokens]\n",
    "    bigrm.append(tokens)\n",
    "review_data[\"unigram\"]=token\n",
    "review_data[\"bigram\"]=bigrm"
   ]
  },
  {
   "cell_type": "code",
   "execution_count": 74,
   "metadata": {
    "pycharm": {
     "name": "#%%\n"
    }
   },
   "outputs": [
    {
     "data": {
      "text/html": [
       "<div>\n",
       "<style scoped>\n",
       "    .dataframe tbody tr th:only-of-type {\n",
       "        vertical-align: middle;\n",
       "    }\n",
       "\n",
       "    .dataframe tbody tr th {\n",
       "        vertical-align: top;\n",
       "    }\n",
       "\n",
       "    .dataframe thead th {\n",
       "        text-align: right;\n",
       "    }\n",
       "</style>\n",
       "<table border=\"1\" class=\"dataframe\">\n",
       "  <thead>\n",
       "    <tr style=\"text-align: right;\">\n",
       "      <th></th>\n",
       "      <th>Unnamed: 0</th>\n",
       "      <th>review_id</th>\n",
       "      <th>user_id</th>\n",
       "      <th>business_id</th>\n",
       "      <th>stars</th>\n",
       "      <th>useful</th>\n",
       "      <th>funny</th>\n",
       "      <th>cool</th>\n",
       "      <th>text</th>\n",
       "      <th>date</th>\n",
       "      <th>unigram</th>\n",
       "      <th>bigram</th>\n",
       "    </tr>\n",
       "  </thead>\n",
       "  <tbody>\n",
       "    <tr>\n",
       "      <th>0</th>\n",
       "      <td>1</td>\n",
       "      <td>L0E_Ld__jIATsQ1vA7ZGZw</td>\n",
       "      <td>Cvi8nZTwDVaQkqmmgQwQMw</td>\n",
       "      <td>D4DZztR7vkbiED6txGUYFg</td>\n",
       "      <td>4</td>\n",
       "      <td>0</td>\n",
       "      <td>0</td>\n",
       "      <td>1</td>\n",
       "      <td>Looks like there is a second Red Kings restaur...</td>\n",
       "      <td>2013-06-24 13:15:21</td>\n",
       "      <td>[look, like, second, red, king, restaurant, ch...</td>\n",
       "      <td>[look_like, like_second, second_red, red_king,...</td>\n",
       "    </tr>\n",
       "    <tr>\n",
       "      <th>1</th>\n",
       "      <td>2</td>\n",
       "      <td>Vou3XAgjYJBuCO_-h1OQaA</td>\n",
       "      <td>M-00xuAOYLeaGEhPmmKjfg</td>\n",
       "      <td>eaDZlSuVS0EY67Ke6pRP6Q</td>\n",
       "      <td>5</td>\n",
       "      <td>0</td>\n",
       "      <td>0</td>\n",
       "      <td>0</td>\n",
       "      <td>Absolutely wonderful food &amp; service! Go there ...</td>\n",
       "      <td>2011-04-23 00:52:05</td>\n",
       "      <td>[absolutely, wonderful, food, service, go, lun...</td>\n",
       "      <td>[absolutely_wonderful, wonderful_food, food_se...</td>\n",
       "    </tr>\n",
       "    <tr>\n",
       "      <th>2</th>\n",
       "      <td>3</td>\n",
       "      <td>hozoa1DsTCjpz4UC8YGsNw</td>\n",
       "      <td>ndgHYecgAWEqtjnjE7LtfA</td>\n",
       "      <td>MMRRS6YhVRx_iN5-JhMRYg</td>\n",
       "      <td>4</td>\n",
       "      <td>0</td>\n",
       "      <td>0</td>\n",
       "      <td>0</td>\n",
       "      <td>The new Han Dynasty took over the spot where t...</td>\n",
       "      <td>2012-10-08 15:29:44</td>\n",
       "      <td>[new, han, dynasty, took, spot, old, mid, atla...</td>\n",
       "      <td>[new_han, han_dynasty, dynasty_took, took_spot...</td>\n",
       "    </tr>\n",
       "    <tr>\n",
       "      <th>3</th>\n",
       "      <td>4</td>\n",
       "      <td>tfucaiy6lG5UbvbmTD4STg</td>\n",
       "      <td>wABHp4fGUC-0acRKhmQO2A</td>\n",
       "      <td>MMRRS6YhVRx_iN5-JhMRYg</td>\n",
       "      <td>5</td>\n",
       "      <td>0</td>\n",
       "      <td>0</td>\n",
       "      <td>0</td>\n",
       "      <td>Awesome food, great place to split a bunch of ...</td>\n",
       "      <td>2016-03-07 00:22:02</td>\n",
       "      <td>[awesome, food, great, place, split, bunch, de...</td>\n",
       "      <td>[awesome_food, food_great, great_place, place_...</td>\n",
       "    </tr>\n",
       "    <tr>\n",
       "      <th>4</th>\n",
       "      <td>5</td>\n",
       "      <td>bu0BUkenT8c8nnyKUaF0-A</td>\n",
       "      <td>qmpRRF4HAKuGJEujoK-IdQ</td>\n",
       "      <td>eaDZlSuVS0EY67Ke6pRP6Q</td>\n",
       "      <td>5</td>\n",
       "      <td>0</td>\n",
       "      <td>0</td>\n",
       "      <td>0</td>\n",
       "      <td>I've been coming to this place for years now, ...</td>\n",
       "      <td>2016-02-24 14:34:27</td>\n",
       "      <td>[coming, place, year, even, though, live, colo...</td>\n",
       "      <td>[coming_place, place_year, year_even, even_tho...</td>\n",
       "    </tr>\n",
       "  </tbody>\n",
       "</table>\n",
       "</div>"
      ],
      "text/plain": [
       "   Unnamed: 0               review_id                 user_id  \\\n",
       "0           1  L0E_Ld__jIATsQ1vA7ZGZw  Cvi8nZTwDVaQkqmmgQwQMw   \n",
       "1           2  Vou3XAgjYJBuCO_-h1OQaA  M-00xuAOYLeaGEhPmmKjfg   \n",
       "2           3  hozoa1DsTCjpz4UC8YGsNw  ndgHYecgAWEqtjnjE7LtfA   \n",
       "3           4  tfucaiy6lG5UbvbmTD4STg  wABHp4fGUC-0acRKhmQO2A   \n",
       "4           5  bu0BUkenT8c8nnyKUaF0-A  qmpRRF4HAKuGJEujoK-IdQ   \n",
       "\n",
       "              business_id  stars  useful  funny  cool  \\\n",
       "0  D4DZztR7vkbiED6txGUYFg      4       0      0     1   \n",
       "1  eaDZlSuVS0EY67Ke6pRP6Q      5       0      0     0   \n",
       "2  MMRRS6YhVRx_iN5-JhMRYg      4       0      0     0   \n",
       "3  MMRRS6YhVRx_iN5-JhMRYg      5       0      0     0   \n",
       "4  eaDZlSuVS0EY67Ke6pRP6Q      5       0      0     0   \n",
       "\n",
       "                                                text                 date  \\\n",
       "0  Looks like there is a second Red Kings restaur...  2013-06-24 13:15:21   \n",
       "1  Absolutely wonderful food & service! Go there ...  2011-04-23 00:52:05   \n",
       "2  The new Han Dynasty took over the spot where t...  2012-10-08 15:29:44   \n",
       "3  Awesome food, great place to split a bunch of ...  2016-03-07 00:22:02   \n",
       "4  I've been coming to this place for years now, ...  2016-02-24 14:34:27   \n",
       "\n",
       "                                             unigram  \\\n",
       "0  [look, like, second, red, king, restaurant, ch...   \n",
       "1  [absolutely, wonderful, food, service, go, lun...   \n",
       "2  [new, han, dynasty, took, spot, old, mid, atla...   \n",
       "3  [awesome, food, great, place, split, bunch, de...   \n",
       "4  [coming, place, year, even, though, live, colo...   \n",
       "\n",
       "                                              bigram  \n",
       "0  [look_like, like_second, second_red, red_king,...  \n",
       "1  [absolutely_wonderful, wonderful_food, food_se...  \n",
       "2  [new_han, han_dynasty, dynasty_took, took_spot...  \n",
       "3  [awesome_food, food_great, great_place, place_...  \n",
       "4  [coming_place, place_year, year_even, even_tho...  "
      ]
     },
     "execution_count": 74,
     "metadata": {},
     "output_type": "execute_result"
    }
   ],
   "source": [
    "review_data.head()"
   ]
  },
  {
   "cell_type": "markdown",
   "metadata": {
    "pycharm": {
     "name": "#%% md\n"
    }
   },
   "source": []
  }
 ],
 "metadata": {
  "kernelspec": {
   "display_name": "Python 3 (ipykernel)",
   "language": "python",
   "name": "python3"
  },
  "language_info": {
   "codemirror_mode": {
    "name": "ipython",
    "version": 3
   },
   "file_extension": ".py",
   "mimetype": "text/x-python",
   "name": "python",
   "nbconvert_exporter": "python",
   "pygments_lexer": "ipython3",
   "version": "3.9.12"
  }
 },
 "nbformat": 4,
 "nbformat_minor": 1
}
